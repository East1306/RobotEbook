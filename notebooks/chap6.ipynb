{
 "cells": [
  {
   "attachments": {},
   "cell_type": "markdown",
   "id": "651b19ec",
   "metadata": {},
   "source": [
    "# Robotics, Vision & Control 3e: for Python\n",
    "## Chapter 6: Localization and Mapping\n",
    "\n",
    "Copyright (c) 2021- Peter Corke"
   ]
  },
  {
   "cell_type": "code",
   "execution_count": null,
   "id": "aca05cdb",
   "metadata": {},
   "outputs": [],
   "source": [
    "try:\n",
    "    import google.colab\n",
    "    print('Running on CoLab')\n",
    "    COLAB = True\n",
    "    #!pip install roboticstoolbox-python>=1.0.2\n",
    "    !pip install git+https://github.com/petercorke/robotics-toolbox-python@future\n",
    "    !pip install spatialmath-python>=1.1.5\n",
    "    !pip install --no-deps rvc3python\n",
    "except ModuleNotFoundError:\n",
    "    COLAB = False\n",
    "\n",
    "from IPython.core.interactiveshell import InteractiveShell\n",
    "InteractiveShell.ast_node_interactivity = \"last_expr_or_assign\"\n",
    "from IPython.display import HTML\n",
    "\n",
    "%matplotlib widget\n",
    "import matplotlib.pyplot as plt\n",
    "\n",
    "# add RTB examples folder to the path\n",
    "import sys, os.path\n",
    "import RVC3 as rvc\n",
    "sys.path.append(os.path.join(rvc.__path__[0], 'models'))\n",
    "\n",
    "# ------ standard imports ------ #\n",
    "import numpy as np\n",
    "import math\n",
    "from math import pi\n",
    "np.set_printoptions(\n",
    "    linewidth=120, formatter={\n",
    "        'float': lambda x: f\"{0:8.4g}\" if abs(x) < 1e-10 else f\"{x:8.4g}\"})\n",
    "np.random.seed(0)\n",
    "from spatialmath import *\n",
    "from spatialmath.base import *\n",
    "from roboticstoolbox import *"
   ]
  },
  {
   "cell_type": "markdown",
   "id": "d735d97c",
   "metadata": {},
   "source": [
    "# 6.1 Dead Reckoning using Odometry\n"
   ]
  },
  {
   "cell_type": "markdown",
   "id": "4b0ea1fa",
   "metadata": {},
   "source": [
    "## 6.1.1 Modeling the Robot\n"
   ]
  },
  {
   "cell_type": "code",
   "execution_count": null,
   "id": "d027d369",
   "metadata": {},
   "outputs": [],
   "source": [
    "V = np.diag([0.02, np.deg2rad(0.5)]) ** 2;"
   ]
  },
  {
   "cell_type": "code",
   "execution_count": null,
   "id": "8e057e4a",
   "metadata": {},
   "outputs": [],
   "source": [
    "robot = Bicycle(covar=V, animation=\"car\")"
   ]
  },
  {
   "cell_type": "code",
   "execution_count": null,
   "id": "31e8d1d3",
   "metadata": {},
   "outputs": [],
   "source": [
    "odo = robot.step((1, 0.3))"
   ]
  },
  {
   "cell_type": "code",
   "execution_count": null,
   "id": "3de09219",
   "metadata": {},
   "outputs": [],
   "source": [
    "robot.q"
   ]
  },
  {
   "cell_type": "code",
   "execution_count": null,
   "id": "df690a7e",
   "metadata": {},
   "outputs": [],
   "source": [
    "robot.f([0, 0, 0], odo)"
   ]
  },
  {
   "cell_type": "code",
   "execution_count": null,
   "id": "7d9731cf",
   "metadata": {},
   "outputs": [],
   "source": [
    "robot.control = RandomPath(workspace=10)"
   ]
  },
  {
   "cell_type": "code",
   "execution_count": null,
   "id": "efc58be6",
   "metadata": {},
   "outputs": [],
   "source": [
    "\n",
    "robot.run(T=10);"
   ]
  },
  {
   "cell_type": "markdown",
   "id": "1fed0cf9",
   "metadata": {},
   "source": [
    "## 6.1.2 Estimating Pose\n"
   ]
  },
  {
   "cell_type": "code",
   "execution_count": null,
   "id": "8730a32f",
   "metadata": {},
   "outputs": [],
   "source": [
    "robot.Fx([0, 0, 0], [0.5, 0.1])"
   ]
  },
  {
   "cell_type": "code",
   "execution_count": null,
   "id": "296a9429",
   "metadata": {},
   "outputs": [],
   "source": [
    "x_sdev = [0.05, 0.05, np.deg2rad(0.5)];\n",
    "P0 = np.diag(x_sdev) ** 2;"
   ]
  },
  {
   "cell_type": "code",
   "execution_count": null,
   "id": "d7ab0cb6",
   "metadata": {},
   "outputs": [],
   "source": [
    "ekf = EKF(robot=(robot, V), P0=P0)"
   ]
  },
  {
   "cell_type": "code",
   "execution_count": null,
   "id": "ce6c16ea",
   "metadata": {},
   "outputs": [],
   "source": [
    "ekf.run(T=20);"
   ]
  },
  {
   "cell_type": "code",
   "execution_count": null,
   "id": "b71ea14b",
   "metadata": {},
   "outputs": [],
   "source": [
    "with plt.ioff():\n",
    "    robot.plot_xy(color=\"b\")\n",
    "    ekf.plot_xy(color=\"r\")\n"
   ]
  },
  {
   "cell_type": "code",
   "execution_count": null,
   "id": "eb500a4a",
   "metadata": {},
   "outputs": [],
   "source": [
    "P150 = ekf.get_P(150)"
   ]
  },
  {
   "cell_type": "code",
   "execution_count": null,
   "id": "11849224",
   "metadata": {},
   "outputs": [],
   "source": [
    "np.sqrt(P150[0, 0])"
   ]
  },
  {
   "cell_type": "code",
   "execution_count": null,
   "id": "f75f91a5",
   "metadata": {},
   "outputs": [],
   "source": [
    "with plt.ioff():\n",
    "    ekf.plot_xy(color=\"r\")\n",
    "    ekf.plot_ellipse(filled=True, facecolor=\"g\", alpha=0.3)"
   ]
  },
  {
   "cell_type": "code",
   "execution_count": null,
   "id": "dce1d43f",
   "metadata": {},
   "outputs": [],
   "source": [
    "t = ekf.get_t();\n",
    "pn = ekf.get_Pnorm();\n",
    "plt.plot(t, pn);"
   ]
  },
  {
   "cell_type": "markdown",
   "id": "89d5e851",
   "metadata": {},
   "source": [
    "# 6.2 Localizing with a Landmark Map\n"
   ]
  },
  {
   "cell_type": "code",
   "execution_count": null,
   "id": "c0df556e",
   "metadata": {},
   "outputs": [],
   "source": [
    "map = LandmarkMap(20, workspace=10)"
   ]
  },
  {
   "cell_type": "code",
   "execution_count": null,
   "id": "8e624771",
   "metadata": {},
   "outputs": [],
   "source": [
    "map.plot()"
   ]
  },
  {
   "cell_type": "code",
   "execution_count": null,
   "id": "d2af23bb",
   "metadata": {},
   "outputs": [],
   "source": [
    "W = np.diag([0.1, np.deg2rad(1)]) ** 2;"
   ]
  },
  {
   "cell_type": "code",
   "execution_count": null,
   "id": "a0a33ccd",
   "metadata": {},
   "outputs": [],
   "source": [
    "sensor = RangeBearingSensor(robot=robot, map=map, covar=W,  \n",
    "           angle=[-pi/2, pi/2], range=4, animate=True)"
   ]
  },
  {
   "cell_type": "code",
   "execution_count": null,
   "id": "976872b2",
   "metadata": {},
   "outputs": [],
   "source": [
    "z, i = sensor.reading()\n",
    "z\n",
    "i"
   ]
  },
  {
   "cell_type": "code",
   "execution_count": null,
   "id": "0482fa2a",
   "metadata": {},
   "outputs": [],
   "source": [
    "map[15]"
   ]
  },
  {
   "cell_type": "code",
   "execution_count": null,
   "id": "acef9964",
   "metadata": {},
   "outputs": [],
   "source": [
    "map = LandmarkMap(20, workspace=10);\n",
    "V = np.diag([0.02, np.deg2rad(0.5)]) ** 2\n",
    "robot = Bicycle(covar=V, animation=\"car\");\n",
    "robot.control = RandomPath(workspace=map, seed=0)\n",
    "W = np.diag([0.1, np.deg2rad(1)]) ** 2\n",
    "sensor = RangeBearingSensor(robot=robot, map=map, covar=W, \n",
    "           angle=[-pi/2, pi/2], range=4, seed=0, animate=True);\n",
    "P0 = np.diag([0.05, 0.05, np.deg2rad(0.5)]) ** 2;\n",
    "ekf = EKF(robot=(robot, V), P0=P0, map=map, sensor=(sensor, W));"
   ]
  },
  {
   "cell_type": "code",
   "execution_count": null,
   "id": "bd34c8d9",
   "metadata": {},
   "outputs": [],
   "source": [
    "ekf.run(T=20)"
   ]
  },
  {
   "cell_type": "code",
   "execution_count": null,
   "id": "42b9fa08",
   "metadata": {},
   "outputs": [],
   "source": [
    "with plt.ioff():\n",
    "    map.plot()\n",
    "    robot.plot_xy();\n",
    "    ekf.plot_xy();\n",
    "    ekf.plot_ellipse()"
   ]
  },
  {
   "cell_type": "markdown",
   "id": "fbba8ad9",
   "metadata": {},
   "source": [
    "# 6.3 Creating a Landmark Map\n"
   ]
  },
  {
   "cell_type": "code",
   "execution_count": null,
   "id": "eecf000c",
   "metadata": {},
   "outputs": [],
   "source": [
    "map = LandmarkMap(20, workspace=10, seed=0);\n",
    "robot = Bicycle(covar=V, animation=\"car\");\n",
    "robot.control = RandomPath(workspace=map);\n",
    "W = np.diag([0.1, np.deg2rad(1)]) ** 2\n",
    "sensor = RangeBearingSensor(robot=robot, map=map, covar=W, \n",
    "           range=4, angle=[-pi/2, pi/2], animate=True);\n",
    "ekf = EKF(robot=(robot, None), sensor=(sensor, W));"
   ]
  },
  {
   "cell_type": "code",
   "execution_count": null,
   "id": "8d5af093",
   "metadata": {},
   "outputs": [],
   "source": [
    "ekf.run(T=100);"
   ]
  },
  {
   "cell_type": "code",
   "execution_count": null,
   "id": "204916e7",
   "metadata": {},
   "outputs": [],
   "source": [
    "with plt.ioff():\n",
    "    map.plot();\n",
    "    ekf.plot_map();\n",
    "    robot.plot_xy();"
   ]
  },
  {
   "cell_type": "code",
   "execution_count": null,
   "id": "725bbe1d",
   "metadata": {},
   "outputs": [],
   "source": [
    "ekf.landmark(10)"
   ]
  },
  {
   "cell_type": "code",
   "execution_count": null,
   "id": "be73c07c",
   "metadata": {},
   "outputs": [],
   "source": [
    "ekf.x_est[24:26]"
   ]
  },
  {
   "cell_type": "code",
   "execution_count": null,
   "id": "490a63a0",
   "metadata": {},
   "outputs": [],
   "source": [
    "ekf.P_est[24:26, 24:26]"
   ]
  },
  {
   "cell_type": "markdown",
   "id": "1a515e2a",
   "metadata": {},
   "source": [
    "# 6.4 Simultaneous Localization and Mapping\n"
   ]
  },
  {
   "cell_type": "code",
   "execution_count": null,
   "id": "4fb26a8c",
   "metadata": {},
   "outputs": [],
   "source": [
    "map = LandmarkMap(20, workspace=10);\n",
    "W = np.diag([0.1, np.deg2rad(1)]) ** 2 \n",
    "robot = Bicycle(covar=V, x0=(3, 6, np.deg2rad(-45)), \n",
    "          animation=\"car\");\n",
    "robot.control = RandomPath(workspace=map);\n",
    "W = np.diag([0.1, np.deg2rad(1)]) ** 2\n",
    "sensor = RangeBearingSensor(robot=robot, map=map, covar=W, \n",
    "           range=4, angle=[-pi/2, pi/2], animate=True);\n",
    "P0 = np.diag([0.05, 0.05, np.deg2rad(0.5)]) ** 2;\n",
    "ekf = EKF(robot=(robot, V), P0=P0, sensor=(sensor, W));"
   ]
  },
  {
   "cell_type": "code",
   "execution_count": null,
   "id": "b67a92a4",
   "metadata": {},
   "outputs": [],
   "source": [
    "ekf.run(T=40);"
   ]
  },
  {
   "cell_type": "code",
   "execution_count": null,
   "id": "e65bd2b5",
   "metadata": {},
   "outputs": [],
   "source": [
    "map.plot();       # plot true map\n",
    "robot.plot_xy();  # plot true path"
   ]
  },
  {
   "cell_type": "code",
   "execution_count": null,
   "id": "27aac48e",
   "metadata": {},
   "outputs": [],
   "source": [
    "ekf.plot_map();      # plot estimated landmark position\n",
    "ekf.plot_ellipse();  # plot estimated covariance\n",
    "ekf.plot_xy();       # plot estimated robot path"
   ]
  },
  {
   "cell_type": "code",
   "execution_count": null,
   "id": "6244202f",
   "metadata": {},
   "outputs": [],
   "source": [
    "T = ekf.get_transform(map)"
   ]
  },
  {
   "cell_type": "markdown",
   "id": "c4ffca1e",
   "metadata": {},
   "source": [
    "# 6.5 Pose-Graph SLAM\n"
   ]
  },
  {
   "cell_type": "code",
   "execution_count": null,
   "id": "388744fb",
   "metadata": {},
   "outputs": [],
   "source": [
    "import sympy\n",
    "xi, yi, ti, xj, yj, tj = sympy.symbols(\"xi yi ti xj yj tj\")\n",
    "xm, ym, tm = sympy.symbols(\"xm ym tm\")\n",
    "xi_e = SE2(xm, ym, tm).inv() * SE2(xi, yi, ti).inv() \\\n",
    "     * SE2(xj, yj, tj);\n",
    "fk = sympy.Matrix(sympy.simplify(xi_e.xyt()));"
   ]
  },
  {
   "cell_type": "code",
   "execution_count": null,
   "id": "962dd811",
   "metadata": {},
   "outputs": [],
   "source": [
    "Ai = sympy.simplify(fk.jacobian([xi, yi, ti]))\n",
    "Ai.shape"
   ]
  },
  {
   "cell_type": "code",
   "execution_count": null,
   "id": "043a53ff",
   "metadata": {},
   "outputs": [],
   "source": [
    "pg = PoseGraph(\"data/pg1.g2o\");"
   ]
  },
  {
   "cell_type": "code",
   "execution_count": null,
   "id": "438b0890",
   "metadata": {},
   "outputs": [],
   "source": [
    "pg.plot();"
   ]
  },
  {
   "cell_type": "code",
   "execution_count": null,
   "id": "ba919532",
   "metadata": {},
   "outputs": [],
   "source": [
    "pg.optimize(animate=True)"
   ]
  },
  {
   "cell_type": "code",
   "execution_count": null,
   "id": "8ce3b79e",
   "metadata": {},
   "outputs": [],
   "source": [
    "pg = PoseGraph(\"data/killian-small.toro\");"
   ]
  },
  {
   "cell_type": "code",
   "execution_count": null,
   "id": "d5922d7c",
   "metadata": {},
   "outputs": [],
   "source": [
    "pg.plot();"
   ]
  },
  {
   "cell_type": "code",
   "execution_count": null,
   "id": "543e3c7f",
   "metadata": {},
   "outputs": [],
   "source": [
    "pg.optimize()"
   ]
  },
  {
   "cell_type": "markdown",
   "id": "01363927",
   "metadata": {},
   "source": [
    "# 6.6 Sequential Monte-Carlo Localization\n"
   ]
  },
  {
   "cell_type": "code",
   "execution_count": null,
   "id": "755de7c6",
   "metadata": {},
   "outputs": [],
   "source": [
    "map = LandmarkMap(20, workspace=10);"
   ]
  },
  {
   "cell_type": "code",
   "execution_count": null,
   "id": "827578ff",
   "metadata": {},
   "outputs": [],
   "source": [
    "V = np.diag([0.02, np.deg2rad(0.5)]) ** 2;\n",
    "robot = Bicycle(covar=V, animation=\"car\", workspace=map);\n",
    "robot.control = RandomPath(workspace=map)"
   ]
  },
  {
   "cell_type": "code",
   "execution_count": null,
   "id": "5eb1c02f",
   "metadata": {},
   "outputs": [],
   "source": [
    "W = np.diag([0.1, np.deg2rad(1)]) ** 2;\n",
    "sensor = RangeBearingSensor(robot, map, covar=W, plot=True);"
   ]
  },
  {
   "cell_type": "code",
   "execution_count": null,
   "id": "3a7e10b4",
   "metadata": {},
   "outputs": [],
   "source": [
    "R = np.diag([0.1, 0.1, np.deg2rad(1)]) ** 2;"
   ]
  },
  {
   "cell_type": "code",
   "execution_count": null,
   "id": "5ec9c07a",
   "metadata": {},
   "outputs": [],
   "source": [
    "L = np.diag([0.1, 0.1]);"
   ]
  },
  {
   "cell_type": "code",
   "execution_count": null,
   "id": "1a2567de",
   "metadata": {},
   "outputs": [],
   "source": [
    "pf = ParticleFilter(robot, sensor=sensor, R=R, L=L, nparticles=1000);"
   ]
  },
  {
   "cell_type": "code",
   "execution_count": null,
   "id": "0e81065b",
   "metadata": {},
   "outputs": [],
   "source": [
    "pf.run(T=10);"
   ]
  },
  {
   "cell_type": "code",
   "execution_count": null,
   "id": "eac60417",
   "metadata": {},
   "outputs": [],
   "source": [
    "map.plot();\n",
    "robot.plot_xy();"
   ]
  },
  {
   "cell_type": "code",
   "execution_count": null,
   "id": "317f97a4",
   "metadata": {},
   "outputs": [],
   "source": [
    "pf.plot_xy();"
   ]
  },
  {
   "cell_type": "code",
   "execution_count": null,
   "id": "51d1a77f",
   "metadata": {},
   "outputs": [],
   "source": [
    "plt.plot(pf.get_std()[:100,:]);"
   ]
  },
  {
   "cell_type": "code",
   "execution_count": null,
   "id": "b8f96fb0",
   "metadata": {},
   "outputs": [],
   "source": [
    "pf.plot_pdf()"
   ]
  },
  {
   "cell_type": "markdown",
   "id": "8ff2e66e",
   "metadata": {},
   "source": [
    "# 6.7 Rao-Blackwellized SLAM\n"
   ]
  },
  {
   "cell_type": "markdown",
   "id": "7b0dbaa1",
   "metadata": {},
   "source": [
    "# 6.8 Application: Lidar\n"
   ]
  },
  {
   "cell_type": "markdown",
   "id": "76118381",
   "metadata": {},
   "source": [
    "## 6.8.1 Lidar-based Odometry\n"
   ]
  },
  {
   "cell_type": "code",
   "execution_count": null,
   "id": "8c613f42",
   "metadata": {},
   "outputs": [],
   "source": [
    "pg = PoseGraph(\"data/killian.g2o.zip\", lidar=True);"
   ]
  },
  {
   "cell_type": "code",
   "execution_count": null,
   "id": "03bd29e5",
   "metadata": {},
   "outputs": [],
   "source": [
    "[r, theta] = pg.scan(100);\n",
    "r.shape\n",
    "theta.shape"
   ]
  },
  {
   "cell_type": "code",
   "execution_count": null,
   "id": "663f2d8e",
   "metadata": {},
   "outputs": [],
   "source": [
    "plt.clf()\n",
    "plt.polar(theta, r);"
   ]
  },
  {
   "cell_type": "code",
   "execution_count": null,
   "id": "1ee445ba",
   "metadata": {},
   "outputs": [],
   "source": [
    "p100 = pg.scanxy(100);\n",
    "p101 = pg.scanxy(100);\n",
    "p100.shape"
   ]
  },
  {
   "cell_type": "code",
   "execution_count": null,
   "id": "e9166033",
   "metadata": {},
   "outputs": [],
   "source": [
    "T = pg.scanmatch(100, 101);\n",
    "T.printline()"
   ]
  },
  {
   "cell_type": "code",
   "execution_count": null,
   "id": "e8f2d857",
   "metadata": {},
   "outputs": [],
   "source": [
    "pg.time(101) - pg.time(100)"
   ]
  },
  {
   "cell_type": "markdown",
   "id": "1d3afa16",
   "metadata": {},
   "source": [
    "## 6.8.2 Lidar-based Map Building\n"
   ]
  },
  {
   "cell_type": "code",
   "execution_count": null,
   "id": "af81acfa",
   "metadata": {},
   "outputs": [],
   "source": [
    "og = OccupancyGrid(workspace=[-100, 250, -100, 250], cellsize=0.1, value=np.int32(0));\n",
    "pg.scanmap(og, maxrange=40)\n",
    "og.plot(cmap=\"gray\")"
   ]
  },
  {
   "cell_type": "markdown",
   "id": "a09b10ba",
   "metadata": {},
   "source": [
    "## 6.8.3 Lidar-based Localization\n"
   ]
  },
  {
   "cell_type": "markdown",
   "id": "93675253",
   "metadata": {},
   "source": [
    "# 6.9 Wrapping Up\n"
   ]
  },
  {
   "cell_type": "markdown",
   "id": "668ef007",
   "metadata": {},
   "source": [
    "## 6.9.1 Further Reading\n"
   ]
  },
  {
   "cell_type": "markdown",
   "id": "6e7793ba",
   "metadata": {
    "lines_to_next_cell": 2
   },
   "source": [
    "## 6.9.2 Exercises\n"
   ]
  }
 ],
 "metadata": {
  "jupytext": {
   "cell_metadata_filter": "-all",
   "main_language": "python",
   "notebook_metadata_filter": "-all"
  },
  "kernelspec": {
   "display_name": "dev",
   "language": "python",
   "name": "python3"
  },
  "language_info": {
   "codemirror_mode": {
    "name": "ipython",
    "version": 3
   },
   "file_extension": ".py",
   "mimetype": "text/x-python",
   "name": "python",
   "nbconvert_exporter": "python",
   "pygments_lexer": "ipython3",
   "version": "3.10.9"
  },
  "vscode": {
   "interpreter": {
    "hash": "019dbbf6354d31390a1af2a8707908a74d3d4774daf62f20d47153cfbd4b4bc4"
   }
  }
 },
 "nbformat": 4,
 "nbformat_minor": 5
}
