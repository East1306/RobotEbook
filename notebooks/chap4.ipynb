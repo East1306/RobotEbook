{
 "cells": [
  {
   "attachments": {},
   "cell_type": "markdown",
   "id": "3e1f10e7",
   "metadata": {},
   "source": [
    "# Robotics, Vision & Control 3e: for Python\n",
    "## Chapter 4: Mobile Robot Vehicles"
   ]
  },
  {
   "cell_type": "code",
   "execution_count": 1,
   "id": "3a582779",
   "metadata": {},
   "outputs": [
    {
     "name": "stdout",
     "output_type": "stream",
     "text": [
      "Not running on CoLab\n"
     ]
    }
   ],
   "source": [
    "if 'google.colab' in str(get_ipython()):\n",
    "    print('Running on CoLab')\n",
    "    !pip install -U ipython\n",
    "    !pip install roboticstoolbox-python\n",
    "else:\n",
    "    print('Not running on CoLab')\n",
    "\n",
    "from IPython.core.interactiveshell import InteractiveShell\n",
    "InteractiveShell.ast_node_interactivity = \"last_expr_or_assign\"\n",
    "from IPython.display import HTML\n",
    "\n",
    "import matplotlib.pyplot as plt\n",
    "\n",
    "# add RTB examples folder to the path\n",
    "import sys\n",
    "import os.path\n",
    "import RVC3 as rvc\n",
    "sys.path.append(os.path.join(rvc.__path__[0], 'models'))\n",
    "\n",
    "# ------ standard imports ------ #\n",
    "import numpy as np\n",
    "import scipy as sp\n",
    "import math\n",
    "from math import pi\n",
    "np.set_printoptions(\n",
    "    linewidth=120, formatter={\n",
    "        'float': lambda x: f\"{0:8.4g}\" if abs(x) < 1e-10 else f\"{x:8.4g}\"})\n",
    "np.random.seed(0)\n",
    "from spatialmath import *\n",
    "from spatialmath.base import *\n",
    "from roboticstoolbox import *\n"
   ]
  },
  {
   "cell_type": "markdown",
   "id": "af64cfca",
   "metadata": {},
   "source": [
    "# 4.1 Wheeled Mobile Robots\n"
   ]
  },
  {
   "cell_type": "markdown",
   "id": "25080937",
   "metadata": {},
   "source": [
    "## 4.1.1 Car-Like Mobile Robots\n"
   ]
  },
  {
   "cell_type": "code",
   "execution_count": 5,
   "id": "5886e195",
   "metadata": {},
   "outputs": [
    {
     "name": "stdout",
     "output_type": "stream",
     "text": [
      "\n",
      "Compiling:\n",
      "┌───────────┬────────┬──────────┬─────────────────────┐\n",
      "│  block    │ inport │  source  │     source type     │\n",
      "├───────────┼────────┼──────────┼─────────────────────┤\n",
      "│scopexy1.0 │ 0      │ vehicle  │ ndarray(3,).float64 │\n",
      "├───────────┼────────┼──────────┼─────────────────────┤\n",
      "│speed      │        │          │                     │\n",
      "├───────────┼────────┼──────────┼─────────────────────┤\n",
      "│steering@  │        │          │                     │\n",
      "├───────────┼────────┼──────────┼─────────────────────┤\n",
      "│vehicle    │ 0      │ speed    │ int                 │\n",
      "│           │ 1      │ steering │ int                 │\n",
      "└───────────┴────────┴──────────┴─────────────────────┘\n",
      "\n",
      "initial state  x0 =  [       0        0        0]\n",
      "run interval: from 0 to 3, args={'max_step': 0.1}, x0=[       0        0        0]lete\n",
      "\n",
      "[step]: exception AttributeError occurred in scopexy1 block scopexy1.0  \n",
      "  'NoneType' object has no attribute 'graphics'\n",
      "\n",
      "\n",
      "input 0 from vehicle [ndarray]\n",
      "   [  0.0001        0        0]\n",
      "\n",
      "unrecoverable error in evaluation:  Fatal failure\n"
     ]
    },
    {
     "name": "stderr",
     "output_type": "stream",
     "text": [
      "  File \"/Users/pic/Dropbox/code/bdsim/bdsim/blockdiagram.py\", line 948, in step\n",
      "    for b in self.blocklist:\n",
      "  File \"/Users/pic/Dropbox/code/bdsim/bdsim/blocks/displays.py\", line 474, in step\n",
      "  File \"/Users/pic/Dropbox/code/bdsim/bdsim/blocks/displays.py\", line 394, in _step\n"
     ]
    },
    {
     "ename": "RuntimeError",
     "evalue": "Fatal failure",
     "output_type": "error",
     "traceback": [
      "\u001b[0;31m---------------------------------------------------------------------------\u001b[0m",
      "\u001b[0;31mRuntimeError\u001b[0m                              Traceback (most recent call last)",
      "File \u001b[0;32m~/opt/miniconda3/envs/dev/lib/python3.9/runpy.py:210\u001b[0m, in \u001b[0;36mrun_module\u001b[0;34m(mod_name, init_globals, run_name, alter_sys)\u001b[0m\n\u001b[1;32m    208\u001b[0m     run_name \u001b[39m=\u001b[39m mod_name\n\u001b[1;32m    209\u001b[0m \u001b[39mif\u001b[39;00m alter_sys:\n\u001b[0;32m--> 210\u001b[0m     \u001b[39mreturn\u001b[39;00m _run_module_code(code, init_globals, run_name, mod_spec)\n\u001b[1;32m    211\u001b[0m \u001b[39melse\u001b[39;00m:\n\u001b[1;32m    212\u001b[0m     \u001b[39m# Leave the sys module alone\u001b[39;00m\n\u001b[1;32m    213\u001b[0m     \u001b[39mreturn\u001b[39;00m _run_code(code, {}, init_globals, run_name, mod_spec)\n",
      "File \u001b[0;32m~/opt/miniconda3/envs/dev/lib/python3.9/runpy.py:97\u001b[0m, in \u001b[0;36m_run_module_code\u001b[0;34m(code, init_globals, mod_name, mod_spec, pkg_name, script_name)\u001b[0m\n\u001b[1;32m     95\u001b[0m \u001b[39mwith\u001b[39;00m _TempModule(mod_name) \u001b[39mas\u001b[39;00m temp_module, _ModifiedArgv0(fname):\n\u001b[1;32m     96\u001b[0m     mod_globals \u001b[39m=\u001b[39m temp_module\u001b[39m.\u001b[39mmodule\u001b[39m.\u001b[39m\u001b[39m__dict__\u001b[39m\n\u001b[0;32m---> 97\u001b[0m     _run_code(code, mod_globals, init_globals,\n\u001b[1;32m     98\u001b[0m               mod_name, mod_spec, pkg_name, script_name)\n\u001b[1;32m     99\u001b[0m \u001b[39m# Copy the globals of the temporary module, as they\u001b[39;00m\n\u001b[1;32m    100\u001b[0m \u001b[39m# may be cleared when the temporary module goes away\u001b[39;00m\n\u001b[1;32m    101\u001b[0m \u001b[39mreturn\u001b[39;00m mod_globals\u001b[39m.\u001b[39mcopy()\n",
      "File \u001b[0;32m~/opt/miniconda3/envs/dev/lib/python3.9/runpy.py:87\u001b[0m, in \u001b[0;36m_run_code\u001b[0;34m(code, run_globals, init_globals, mod_name, mod_spec, pkg_name, script_name)\u001b[0m\n\u001b[1;32m     79\u001b[0m         pkg_name \u001b[39m=\u001b[39m mod_spec\u001b[39m.\u001b[39mparent\n\u001b[1;32m     80\u001b[0m run_globals\u001b[39m.\u001b[39mupdate(\u001b[39m__name__\u001b[39m \u001b[39m=\u001b[39m mod_name,\n\u001b[1;32m     81\u001b[0m                    \u001b[39m__file__\u001b[39m \u001b[39m=\u001b[39m fname,\n\u001b[1;32m     82\u001b[0m                    __cached__ \u001b[39m=\u001b[39m cached,\n\u001b[0;32m   (...)\u001b[0m\n\u001b[1;32m     85\u001b[0m                    __package__ \u001b[39m=\u001b[39m pkg_name,\n\u001b[1;32m     86\u001b[0m                    __spec__ \u001b[39m=\u001b[39m mod_spec)\n\u001b[0;32m---> 87\u001b[0m exec(code, run_globals)\n\u001b[1;32m     88\u001b[0m \u001b[39mreturn\u001b[39;00m run_globals\n",
      "File \u001b[0;32m~/Dropbox/code/RVC3-python/RVC3/models/lanechange.py:18\u001b[0m\n\u001b[1;32m     16\u001b[0m \u001b[39mif\u001b[39;00m \u001b[39m__name__\u001b[39m \u001b[39m==\u001b[39m \u001b[39m\"\u001b[39m\u001b[39m__main__\u001b[39m\u001b[39m\"\u001b[39m:\n\u001b[1;32m     17\u001b[0m     bd\u001b[39m.\u001b[39mreport_summary()\n\u001b[0;32m---> 18\u001b[0m     out \u001b[39m=\u001b[39m sim\u001b[39m.\u001b[39;49mrun(bd, T\u001b[39m=\u001b[39;49m\u001b[39m10\u001b[39;49m)\n\u001b[1;32m     19\u001b[0m     bd\u001b[39m.\u001b[39mdone(block\u001b[39m=\u001b[39m\u001b[39mTrue\u001b[39;00m)\n",
      "File \u001b[0;32m~/Dropbox/code/bdsim/bdsim/bdsim.py:498\u001b[0m, in \u001b[0;36mBDSim.run\u001b[0;34m(self, bd, T, dt, solver, solver_args, debug, block, checkfinite, minstepsize, watch)\u001b[0m\n\u001b[1;32m    496\u001b[0m     \u001b[39mbreak\u001b[39;00m\n\u001b[1;32m    497\u001b[0m \u001b[39m# run system until next event time\u001b[39;00m\n\u001b[0;32m--> 498\u001b[0m x \u001b[39m=\u001b[39m \u001b[39mself\u001b[39;49m\u001b[39m.\u001b[39;49mrun_interval(bd, tprev, tnext, x, state\u001b[39m=\u001b[39;49mstate)\n\u001b[1;32m    499\u001b[0m nintervals \u001b[39m+\u001b[39m\u001b[39m=\u001b[39m \u001b[39m1\u001b[39m\n\u001b[1;32m    501\u001b[0m \u001b[39m# visit all the blocks and clocks that have an event now\u001b[39;00m\n",
      "File \u001b[0;32m~/Dropbox/code/bdsim/bdsim/bdsim.py:611\u001b[0m, in \u001b[0;36mBDSim.run_interval\u001b[0;34m(self, bd, t0, T, x0, state)\u001b[0m\n\u001b[1;32m    608\u001b[0m     state\u001b[39m.\u001b[39mplist[i]\u001b[39m.\u001b[39mappend(p\u001b[39m.\u001b[39mblock\u001b[39m.\u001b[39moutput(integrator\u001b[39m.\u001b[39mt)[p\u001b[39m.\u001b[39mport])\n\u001b[1;32m    610\u001b[0m \u001b[39m# # update all blocks that need to know\u001b[39;00m\n\u001b[0;32m--> 611\u001b[0m bd\u001b[39m.\u001b[39;49mstep(state\u001b[39m=\u001b[39;49m\u001b[39mself\u001b[39;49m\u001b[39m.\u001b[39;49mstate)\n\u001b[1;32m    613\u001b[0m \u001b[39mself\u001b[39m\u001b[39m.\u001b[39mprogress\u001b[39m.\u001b[39mupdate(\u001b[39mself\u001b[39m\u001b[39m.\u001b[39mstate\u001b[39m.\u001b[39mt)  \u001b[39m# update the progress bar\u001b[39;00m\n\u001b[1;32m    615\u001b[0m \u001b[39mif\u001b[39;00m integrator\u001b[39m.\u001b[39mstatus \u001b[39m==\u001b[39m \u001b[39m'\u001b[39m\u001b[39mfinished\u001b[39m\u001b[39m'\u001b[39m:\n",
      "File \u001b[0;32m~/Dropbox/code/bdsim/bdsim/blockdiagram.py:951\u001b[0m, in \u001b[0;36mBlockDiagram.step\u001b[0;34m(self, state)\u001b[0m\n\u001b[1;32m    949\u001b[0m     state\u001b[39m.\u001b[39mcount \u001b[39m+\u001b[39m\u001b[39m=\u001b[39m \u001b[39m1\u001b[39m\n\u001b[1;32m    950\u001b[0m \u001b[39mexcept\u001b[39;00m:\n\u001b[0;32m--> 951\u001b[0m     \u001b[39mself\u001b[39;49m\u001b[39m.\u001b[39;49m_error_handler(\u001b[39m'\u001b[39;49m\u001b[39mstep\u001b[39;49m\u001b[39m'\u001b[39;49m, b)\n",
      "File \u001b[0;32m~/Dropbox/code/bdsim/bdsim/blockdiagram.py:895\u001b[0m, in \u001b[0;36mBlockDiagram._error_handler\u001b[0;34m(self, where, block)\u001b[0m\n\u001b[1;32m    885\u001b[0m \u001b[39mprint\u001b[39m(attr(\u001b[39m0\u001b[39m))  \u001b[39m# default text\u001b[39;00m\n\u001b[1;32m    887\u001b[0m \u001b[39m# traceback = err[2]\u001b[39;00m\n\u001b[1;32m    888\u001b[0m \u001b[39m# back_frame = traceback.tb_frame.f_back\u001b[39;00m\n\u001b[1;32m    889\u001b[0m \n\u001b[0;32m   (...)\u001b[0m\n\u001b[1;32m    893\u001b[0m \u001b[39m#                           tb_lineno=back_frame.f_lineno)\u001b[39;00m\n\u001b[1;32m    894\u001b[0m \u001b[39m# raise RuntimeError('Fatal failure').with_traceback(back_tb)\u001b[39;00m\n\u001b[0;32m--> 895\u001b[0m \u001b[39mraise\u001b[39;00m \u001b[39mRuntimeError\u001b[39;00m(\u001b[39m'\u001b[39m\u001b[39mFatal failure\u001b[39m\u001b[39m'\u001b[39m) \u001b[39mfrom\u001b[39;00m \u001b[39mNone\u001b[39m\n",
      "\u001b[0;31mRuntimeError\u001b[0m: Fatal failure"
     ]
    }
   ],
   "source": [
    "%run -m lanechange -H"
   ]
  },
  {
   "cell_type": "code",
   "execution_count": 3,
   "id": "d7ad8f79",
   "metadata": {},
   "outputs": [
    {
     "data": {
      "text/plain": [
       "t      = ndarray:float64 (115,)\n",
       "x      = ndarray:float64 (115, 3)\n",
       "xnames = ['x', 'y', '$\\\\theta$'] (list)\n",
       "ynames = [] (list)"
      ]
     },
     "execution_count": 3,
     "metadata": {},
     "output_type": "execute_result"
    }
   ],
   "source": [
    "out"
   ]
  },
  {
   "cell_type": "code",
   "execution_count": 4,
   "id": "30f08af1",
   "metadata": {},
   "outputs": [
    {
     "data": {
      "application/vnd.jupyter.widget-view+json": {
       "model_id": "3056f13c67864c03bf96d87d018e80f3",
       "version_major": 2,
       "version_minor": 0
      },
      "image/png": "[encoded data removed]",
      "text/html": [
       "\n",
       "            <div style=\"display: inline-block;\">\n",
       "                <div class=\"jupyter-widgets widget-label\" style=\"text-align: center;\">\n",
       "                    Figure\n",
       "                </div>\n",
       "                <img src='data:image/png;base64,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' width=640.0/>\n",
       "            </div>\n",
       "        "
      ],
      "text/plain": [
       "Canvas(toolbar=Toolbar(toolitems=[('Home', 'Reset original view', 'home', 'home'), ('Back', 'Back to previous …"
      ]
     },
     "metadata": {},
     "output_type": "display_data"
    }
   ],
   "source": [
    "plt.plot(out.t, out.x);  # q vs time"
   ]
  },
  {
   "cell_type": "code",
   "execution_count": 4,
   "id": "9139a140",
   "metadata": {},
   "outputs": [],
   "source": [
    "plt.plot(out.x[:,0], out.x[:,1]);  # x vs y"
   ]
  },
  {
   "cell_type": "markdown",
   "id": "48b3d3b3",
   "metadata": {},
   "source": [
    "### 4.1.1.1 Driving to a Point\n"
   ]
  },
  {
   "cell_type": "code",
   "execution_count": null,
   "id": "05b194b0",
   "metadata": {},
   "outputs": [],
   "source": [
    "pgoal = (5, 5);"
   ]
  },
  {
   "cell_type": "code",
   "execution_count": null,
   "id": "abeb9a3e",
   "metadata": {},
   "outputs": [],
   "source": [
    "qs = (8, 5, pi / 2);"
   ]
  },
  {
   "cell_type": "code",
   "execution_count": 4,
   "id": "b597c630",
   "metadata": {},
   "outputs": [
    {
     "name": "stdout",
     "output_type": "stream",
     "text": [
      "['/Users/pic/Dropbox/code/RVC3-python/RVC3/models/drivepoint.py', '-H', '+a']\n",
      "WARNING: unused arguments dict_keys(['size', 'shape'])\n",
      "\n",
      "Compiling:\n",
      "┌──────────────┬────────┬────────────┬─────────────────────┐\n",
      "│    block     │ inport │   source   │     source type     │\n",
      "├──────────────┼────────┼────────────┼─────────────────────┤\n",
      "│function.0    │ 0      │ sum.0      │ ndarray(2,).float64 │\n",
      "├──────────────┼────────┼────────────┼─────────────────────┤\n",
      "│function.1    │ 0      │ sum.0      │ ndarray(2,).float64 │\n",
      "├──────────────┼────────┼────────────┼─────────────────────┤\n",
      "│gain.0        │ 0      │ function.0 │ float               │\n",
      "├──────────────┼────────┼────────────┼─────────────────────┤\n",
      "│gain.1        │ 0      │ sum.1      │ float64             │\n",
      "├──────────────┼────────┼────────────┼─────────────────────┤\n",
      "│goal          │        │            │                     │\n",
      "├──────────────┼────────┼────────────┼─────────────────────┤\n",
      "│heading       │ 0      │ sum.1      │ float64             │\n",
      "├──────────────┼────────┼────────────┼─────────────────────┤\n",
      "│sum.0         │ 0      │ goal       │ ndarray(2,).int64   │\n",
      "│              │ 1      │ xy         │ ndarray(2,).float64 │\n",
      "├──────────────┼────────┼────────────┼─────────────────────┤\n",
      "│sum.1         │ 0      │ function.1 │ float               │\n",
      "│              │ 1      │ theta      │ float64             │\n",
      "├──────────────┼────────┼────────────┼─────────────────────┤\n",
      "│theta         │ 0      │ vehicle    │ ndarray(3,).float64 │\n",
      "├──────────────┼────────┼────────────┼─────────────────────┤\n",
      "│vehicle       │ 0      │ gain.0     │ float               │\n",
      "│              │ 1      │ gain.1     │ float64             │\n",
      "├──────────────┼────────┼────────────┼─────────────────────┤\n",
      "│vehicleplot.0 │ 0      │ vehicle    │ ndarray(3,).float64 │\n",
      "├──────────────┼────────┼────────────┼─────────────────────┤\n",
      "│velocity      │ 0      │ gain.0     │ float               │\n",
      "├──────────────┼────────┼────────────┼─────────────────────┤\n",
      "│xy            │ 0      │ vehicle    │ ndarray(3,).float64 │\n",
      "└──────────────┴────────┴────────────┴─────────────────────┘\n",
      "\n",
      "initial state  x0 =  [       5        2        0]\n",
      "done\n",
      "\n",
      "integrator steps:      632\n",
      "time steps:            104\n",
      "integration intervals: 1\n",
      "\n"
     ]
    }
   ],
   "source": [
    "%run -i -m drivepoint -H +a"
   ]
  },
  {
   "cell_type": "code",
   "execution_count": 3,
   "id": "50b6b0fc",
   "metadata": {},
   "outputs": [],
   "source": [
    "q = out.x;  # configuration vs time\n",
    "%matplotlib ipympl\n",
    "plt.plot(q[:, 0], q[:, 1]);"
   ]
  },
  {
   "cell_type": "markdown",
   "id": "5c61de3c",
   "metadata": {},
   "source": [
    "### 4.1.1.2 Driving Along a Line\n"
   ]
  },
  {
   "cell_type": "code",
   "execution_count": null,
   "id": "3b2edc8f",
   "metadata": {},
   "outputs": [],
   "source": [
    "L = (1, -2, 4);"
   ]
  },
  {
   "cell_type": "code",
   "execution_count": null,
   "id": "2d1c7026",
   "metadata": {},
   "outputs": [],
   "source": [
    "qs = (8, 5, pi / 2);"
   ]
  },
  {
   "cell_type": "code",
   "execution_count": null,
   "id": "d78c8b7a",
   "metadata": {},
   "outputs": [],
   "source": [
    "%run -i -m driveline -H"
   ]
  },
  {
   "cell_type": "markdown",
   "id": "589a8ae8",
   "metadata": {},
   "source": [
    "### 4.1.1.3 Driving Along a Path\n"
   ]
  },
  {
   "cell_type": "code",
   "execution_count": null,
   "id": "248d3a48",
   "metadata": {},
   "outputs": [],
   "source": [
    "%run -m drivepursuit -H"
   ]
  },
  {
   "cell_type": "markdown",
   "id": "db930268",
   "metadata": {},
   "source": [
    "### 4.1.1.4 Driving to a Configuration\n"
   ]
  },
  {
   "cell_type": "code",
   "execution_count": null,
   "id": "645bd8d8",
   "metadata": {},
   "outputs": [],
   "source": [
    "qg = (5, 5, pi / 2);"
   ]
  },
  {
   "cell_type": "code",
   "execution_count": null,
   "id": "fd24ad73",
   "metadata": {},
   "outputs": [],
   "source": [
    "qs = (9, 5, 0);"
   ]
  },
  {
   "cell_type": "code",
   "execution_count": null,
   "id": "b6280e6a",
   "metadata": {},
   "outputs": [],
   "source": [
    "%run -i -m driveconfig -H"
   ]
  },
  {
   "cell_type": "code",
   "execution_count": null,
   "id": "2100965c",
   "metadata": {},
   "outputs": [],
   "source": [
    "q = out.x;  # configuration vs time\n",
    "plt.plot(q[:, 0], q[:, 1]);"
   ]
  },
  {
   "cell_type": "markdown",
   "id": "ba289937",
   "metadata": {},
   "source": [
    "## 4.1.2 Differentially-Steered Vehicle\n"
   ]
  },
  {
   "cell_type": "markdown",
   "id": "3380884b",
   "metadata": {},
   "source": [
    "## 4.1.3 Omnidirectional Vehicle\n"
   ]
  },
  {
   "cell_type": "markdown",
   "id": "13d977e3",
   "metadata": {},
   "source": [
    "# 4.2 Aerial Robots\n"
   ]
  },
  {
   "cell_type": "code",
   "execution_count": null,
   "id": "6d5e36a5",
   "metadata": {},
   "outputs": [],
   "source": [
    "%run -m quadrotor -H"
   ]
  },
  {
   "cell_type": "code",
   "execution_count": null,
   "id": "6e1d68fb",
   "metadata": {},
   "outputs": [],
   "source": [
    "t = out.t; x = out.x;\n",
    "x.shape"
   ]
  },
  {
   "cell_type": "code",
   "execution_count": null,
   "id": "f5248f38",
   "metadata": {},
   "outputs": [],
   "source": [
    "plt.plot(t, x[:, 0], t, x[:, 1]);"
   ]
  },
  {
   "cell_type": "markdown",
   "id": "59695af5",
   "metadata": {},
   "source": [
    "# 4.4 Wrapping Up\n"
   ]
  },
  {
   "cell_type": "markdown",
   "id": "7b99c4de",
   "metadata": {},
   "source": [
    "## 4.4.1 Further Reading\n"
   ]
  },
  {
   "cell_type": "code",
   "execution_count": null,
   "id": "8b05c4f9",
   "metadata": {},
   "outputs": [],
   "source": [
    "veh = Bicycle(speed_max=1, steer_max=np.deg2rad(30));\n",
    "veh.q"
   ]
  },
  {
   "cell_type": "code",
   "execution_count": null,
   "id": "7b4714ac",
   "metadata": {},
   "outputs": [],
   "source": [
    "veh.step([0.3, 0.2])\n",
    "veh.q"
   ]
  },
  {
   "cell_type": "code",
   "execution_count": null,
   "id": "be917c84",
   "metadata": {},
   "outputs": [],
   "source": [
    "veh.deriv(veh.q, [0.3, 0.2])"
   ]
  }
 ],
 "metadata": {
  "jupytext": {
   "cell_metadata_filter": "-all",
   "main_language": "python",
   "notebook_metadata_filter": "-all"
  },
  "kernelspec": {
   "display_name": "Python 3.9.12 ('dev')",
   "language": "python",
   "name": "python3"
  },
  "language_info": {
   "codemirror_mode": {
    "name": "ipython",
    "version": 3
   },
   "file_extension": ".py",
   "mimetype": "text/x-python",
   "name": "python",
   "nbconvert_exporter": "python",
   "pygments_lexer": "ipython3",
   "version": "3.9.12"
  },
  "vscode": {
   "interpreter": {
    "hash": "019dbbf6354d31390a1af2a8707908a74d3d4774daf62f20d47153cfbd4b4bc4"
   }
  }
 },
 "nbformat": 4,
 "nbformat_minor": 5
}
