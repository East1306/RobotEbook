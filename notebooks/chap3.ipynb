{
  "cells": [
    {
      "cell_type": "markdown",
      "id": "d789b481",
      "metadata": {
        "id": "d789b481"
      },
      "source": [
        "# Robotics, Vision & Control 3e: for Python\n",
        "## Chapter 3: Time and Motion"
      ]
    },
    {
      "cell_type": "code",
      "execution_count": null,
      "id": "ce2ca464",
      "metadata": {
        "id": "ce2ca464"
      },
      "outputs": [],
      "source": [
        "try:\n",
        "    import google.colab\n",
        "    print('Running on CoLab')\n",
        "    COLAB = True\n",
        "    !pip install roboticstoolbox-python>=1.0.2\n",
        "    !pip install --no-deps rvc3python\n",
        "except ModuleNotFoundError:\n",
        "    COLAB = False\n",
        "\n",
        "from IPython.core.interactiveshell import InteractiveShell\n",
        "InteractiveShell.ast_node_interactivity = \"last_expr_or_assign\"\n",
        "from IPython.display import HTML\n",
        "\n",
        "# add RTB examples folder to the path\n",
        "import sys\n",
        "import os.path\n",
        "import roboticstoolbox as rtb\n",
        "import RVC3\n",
        "sys.path.append(os.path.join(rtb.__path__[0], 'examples'))\n",
        "sys.path.append(os.path.join(RVC3.__path__[0], 'examples'))\n",
        "\n",
        "# standard imports\n",
        "import numpy as np\n",
        "import scipy as sp\n",
        "import matplotlib.pyplot as plt\n",
        "import math\n",
        "from math import pi\n",
        "np.set_printoptions(\n",
        "    linewidth=120, formatter={\n",
        "        'float': lambda x: f\"{0:8.4g}\" if abs(x) < 1e-10 else f\"{x:8.4g}\"})\n",
        "np.random.seed(0)\n",
        "from spatialmath import *\n",
        "from spatialmath.base import *\n",
        "from roboticstoolbox import quintic, trapezoidal, mtraj, mstraj, xplot, ctraj"
      ]
    },
    {
      "cell_type": "markdown",
      "id": "752428f7",
      "metadata": {
        "id": "752428f7"
      },
      "source": [
        "# 3.1 Time-Varying Pose\n"
      ]
    },
    {
      "cell_type": "markdown",
      "id": "f5f01948",
      "metadata": {
        "id": "f5f01948"
      },
      "source": [
        "## 3.1.3 Transforming Spatial Velocities\n"
      ]
    },
    {
      "cell_type": "code",
      "execution_count": null,
      "id": "67e4f8c2",
      "metadata": {
        "id": "67e4f8c2"
      },
      "outputs": [],
      "source": [
        "aTb = SE3.Tx(-2) * SE3.Rz(-pi/2) * SE3.Rx(pi/2);"
      ]
    },
    {
      "cell_type": "code",
      "execution_count": null,
      "id": "04057ef6",
      "metadata": {
        "id": "04057ef6"
      },
      "outputs": [],
      "source": [
        "bV = [1, 2, 3, 4, 5, 6];"
      ]
    },
    {
      "cell_type": "code",
      "execution_count": null,
      "id": "9e20d026",
      "metadata": {
        "id": "9e20d026"
      },
      "outputs": [],
      "source": [
        "aJb = aTb.jacob();\n",
        "aJb.shape\n",
        "aV = aJb @ bV"
      ]
    },
    {
      "cell_type": "code",
      "execution_count": null,
      "id": "abf2e099",
      "metadata": {
        "id": "abf2e099"
      },
      "outputs": [],
      "source": [
        "aV = aTb.Ad() @ [1, 2, 3, 0, 0, 0]"
      ]
    },
    {
      "cell_type": "code",
      "execution_count": null,
      "id": "1479d005",
      "metadata": {
        "id": "1479d005"
      },
      "outputs": [],
      "source": [
        "aV = aTb.Ad() @ [0, 0, 0, 1, 0, 0]"
      ]
    },
    {
      "cell_type": "code",
      "execution_count": null,
      "id": "bf746045",
      "metadata": {
        "id": "bf746045"
      },
      "outputs": [],
      "source": [
        "aV = aTb.Ad() @ [1, 2, 3, 1, 0, 0]"
      ]
    },
    {
      "cell_type": "markdown",
      "id": "eaac2301",
      "metadata": {
        "id": "eaac2301"
      },
      "source": [
        "## 3.1.4 Incremental Rotation\n"
      ]
    },
    {
      "cell_type": "code",
      "execution_count": null,
      "id": "1a8fcdf0",
      "metadata": {
        "id": "1a8fcdf0"
      },
      "outputs": [],
      "source": [
        "rotx(0.001)"
      ]
    },
    {
      "cell_type": "code",
      "execution_count": null,
      "id": "73f71233",
      "metadata": {
        "id": "73f71233"
      },
      "outputs": [],
      "source": [
        "import time\n",
        "Rexact = np.eye(3); Rapprox = np.eye(3);  # null rotation\n",
        "w = np.array([1, 0, 0]);   # rotation of 1rad/s about x-axis\n",
        "dt = 0.01;                 # time step\n",
        "t0 = time.process_time();\n",
        "for i in range(100):  # exact integration over 100 time steps\n",
        "  Rexact = Rexact @ trexp(skew(w*dt));  # update by composition\n",
        "print(time.process_time() - t0)\n",
        "\n",
        "t0 = time.process_time();\n",
        "for i in range(100):  # approximate integration over 100 time steps\n",
        "  Rapprox = Rapprox + Rapprox @ skew(w*dt);  # update by addition\n",
        "print(time.process_time() - t0)"
      ]
    },
    {
      "cell_type": "code",
      "execution_count": null,
      "id": "b18c487c",
      "metadata": {
        "id": "b18c487c"
      },
      "outputs": [],
      "source": [
        "np.linalg.det(Rapprox) - 1"
      ]
    },
    {
      "cell_type": "code",
      "execution_count": null,
      "id": "0f80418c",
      "metadata": {
        "id": "0f80418c"
      },
      "outputs": [],
      "source": [
        "np.linalg.det(Rexact) - 1"
      ]
    },
    {
      "cell_type": "code",
      "execution_count": null,
      "id": "d6950b0f",
      "metadata": {
        "id": "d6950b0f"
      },
      "outputs": [],
      "source": [
        "tr2angvec(trnorm(Rexact))"
      ]
    },
    {
      "cell_type": "code",
      "execution_count": null,
      "id": "352ceb0b",
      "metadata": {
        "id": "352ceb0b"
      },
      "outputs": [],
      "source": [
        "tr2angvec(trnorm(Rapprox))"
      ]
    },
    {
      "cell_type": "markdown",
      "id": "2f3d51cf",
      "metadata": {
        "id": "2f3d51cf"
      },
      "source": [
        "# 3.2 Accelerating Bodies and Reference Frames\n"
      ]
    },
    {
      "cell_type": "markdown",
      "id": "93cc2ab3",
      "metadata": {
        "id": "93cc2ab3"
      },
      "source": [
        "## 3.2.1 Dynamics of Moving Bodies\n"
      ]
    },
    {
      "cell_type": "code",
      "execution_count": null,
      "id": "acd64f6b",
      "metadata": {
        "id": "acd64f6b"
      },
      "outputs": [],
      "source": [
        "J = np.array([[ 2, -1, 0],\n",
        "              [-1,  4, 0],\n",
        "              [ 0,  0, 3]]);\n",
        "orientation = UnitQuaternion();  # identity quaternion\n",
        "w = 0.2 * np.array([1, 2, 2]);"
      ]
    },
    {
      "cell_type": "code",
      "execution_count": null,
      "id": "adf9e07e",
      "metadata": {
        "id": "adf9e07e"
      },
      "outputs": [],
      "source": [
        "dt = 0.05;  # time step\n",
        "def update():\n",
        "  global orientation, w\n",
        "  for t in np.arange(0, 10, dt):\n",
        "     wd = -np.linalg.inv(J) @ (np.cross(w, J @ w))  # (3.12)\n",
        "     w += wd * dt\n",
        "     orientation *= UnitQuaternion.EulerVec(w * dt)\n",
        "     yield orientation.R\n",
        "\n",
        "plt.close(\"all\")\n",
        "if COLAB:\n",
        "  anim = tranimate(update(), dims=[-1.5,1.5,-1.5,1.5,-1.5,1.5])\n",
        "  HTML(vid:=anim.to_html5_video())\n",
        "else:\n",
        "  tranimate(update(), dims=[-1.5,1.5,-1.5,1.5,-1.5,1.5])\n"
      ]
    },
    {
      "cell_type": "markdown",
      "id": "83eb170e",
      "metadata": {
        "id": "83eb170e"
      },
      "source": [
        "## 3.2.2 Transforming Forces and Torques\n"
      ]
    },
    {
      "cell_type": "code",
      "execution_count": null,
      "id": "bc6b1200",
      "metadata": {
        "id": "bc6b1200"
      },
      "outputs": [],
      "source": [
        "bW = [1, 2, 3, 0, 0, 0];"
      ]
    },
    {
      "cell_type": "code",
      "execution_count": null,
      "id": "c0fab5e0",
      "metadata": {
        "id": "c0fab5e0"
      },
      "outputs": [],
      "source": [
        "aW = aTb.inv().Ad().T @ bW"
      ]
    },
    {
      "cell_type": "markdown",
      "id": "28a58171",
      "metadata": {
        "id": "28a58171"
      },
      "source": [
        "# 3.3 Creating Time-Varying Pose\n"
      ]
    },
    {
      "cell_type": "markdown",
      "id": "90e903cf",
      "metadata": {
        "id": "90e903cf"
      },
      "source": [
        "## 3.3.1 Smooth One-Dimensional Trajectories\n"
      ]
    },
    {
      "cell_type": "code",
      "execution_count": null,
      "id": "acf722f6",
      "metadata": {
        "id": "acf722f6"
      },
      "outputs": [],
      "source": [
        "traj = quintic(0, 1, np.linspace(0, 1, 50));"
      ]
    },
    {
      "cell_type": "code",
      "execution_count": null,
      "id": "08d4c3a9",
      "metadata": {
        "id": "08d4c3a9"
      },
      "outputs": [],
      "source": [
        "traj.plot();"
      ]
    },
    {
      "cell_type": "code",
      "execution_count": null,
      "id": "ee3b484b",
      "metadata": {
        "id": "ee3b484b"
      },
      "outputs": [],
      "source": [
        "quintic(0, 1, np.linspace(0, 1, 50), qd0=10, qdf=0);"
      ]
    },
    {
      "cell_type": "code",
      "execution_count": null,
      "id": "69858861",
      "metadata": {
        "id": "69858861"
      },
      "outputs": [],
      "source": [
        "qd = traj.qd;\n",
        "qd.mean() / qd.max()"
      ]
    },
    {
      "cell_type": "code",
      "execution_count": null,
      "id": "2b7e22d1",
      "metadata": {
        "id": "2b7e22d1"
      },
      "outputs": [],
      "source": [
        "traj = trapezoidal(0, 1, np.linspace(0, 1, 50));\n",
        "traj.plot();"
      ]
    },
    {
      "cell_type": "code",
      "execution_count": null,
      "id": "a6641c50",
      "metadata": {
        "id": "a6641c50"
      },
      "outputs": [],
      "source": [
        "traj.qd.max()"
      ]
    },
    {
      "cell_type": "code",
      "execution_count": null,
      "id": "2451dd66",
      "metadata": {
        "id": "2451dd66"
      },
      "outputs": [],
      "source": [
        "traj1_2 = trapezoidal(0, 1, np.linspace(0, 1, 50), V=1.2);\n",
        "traj2_0 = trapezoidal(0, 1, np.linspace(0, 1, 50), V=2);"
      ]
    },
    {
      "cell_type": "markdown",
      "id": "01dbb8e5",
      "metadata": {
        "id": "01dbb8e5"
      },
      "source": [
        "## 3.3.2 Multi-Axis Trajectories\n"
      ]
    },
    {
      "cell_type": "code",
      "execution_count": null,
      "id": "c3b8ce3b",
      "metadata": {
        "id": "c3b8ce3b"
      },
      "outputs": [],
      "source": [
        "traj = mtraj(trapezoidal, [0, 2], [1, -1], 50);"
      ]
    },
    {
      "cell_type": "code",
      "execution_count": null,
      "id": "27da3e80",
      "metadata": {
        "id": "27da3e80"
      },
      "outputs": [],
      "source": [
        "traj.plot();"
      ]
    },
    {
      "cell_type": "code",
      "execution_count": null,
      "id": "20e1ff3d",
      "metadata": {
        "id": "20e1ff3d"
      },
      "outputs": [],
      "source": [
        "T = SE3.Rand()\n",
        "q = np.hstack([T.t, T.rpy()])"
      ]
    },
    {
      "cell_type": "markdown",
      "id": "23d16f5f",
      "metadata": {
        "id": "23d16f5f"
      },
      "source": [
        "## 3.3.3 Multi-Segment Trajectories\n"
      ]
    },
    {
      "cell_type": "code",
      "execution_count": null,
      "id": "88cb19b2",
      "metadata": {
        "id": "88cb19b2"
      },
      "outputs": [],
      "source": [
        "via = SO2(30, unit=\"deg\") * np.array([[-1, 1, 1, -1, -1], [1, 1, -1, -1, 1]]);\n",
        "traj0 = mstraj(via.T, dt=0.2, tacc=0, qdmax=[2, 1]);"
      ]
    },
    {
      "cell_type": "code",
      "execution_count": null,
      "id": "64782a1f",
      "metadata": {
        "id": "64782a1f"
      },
      "outputs": [],
      "source": [
        "# xplot(traj0.q[:, 0], traj0.q[:, 1], color=\"red\");\n",
        "plt.plot(traj0.q[:, 0], traj0.q[:, 1], color=\"red\");"
      ]
    },
    {
      "cell_type": "code",
      "execution_count": null,
      "id": "57dcefd2",
      "metadata": {
        "id": "57dcefd2"
      },
      "outputs": [],
      "source": [
        "traj2 = mstraj(via.T, dt=0.2, tacc=2, qdmax=[2, 1]);"
      ]
    },
    {
      "cell_type": "code",
      "execution_count": null,
      "id": "25798df6",
      "metadata": {
        "id": "25798df6"
      },
      "outputs": [],
      "source": [
        "len(traj0), len(traj2)"
      ]
    },
    {
      "cell_type": "markdown",
      "id": "b82e625e",
      "metadata": {
        "id": "b82e625e"
      },
      "source": [
        "## 3.3.4 Interpolation of Orientation in 3D\n"
      ]
    },
    {
      "cell_type": "code",
      "execution_count": null,
      "id": "7b1908c1",
      "metadata": {
        "id": "7b1908c1"
      },
      "outputs": [],
      "source": [
        "R0 = SO3.Rz(-1) * SO3.Ry(-1);\n",
        "R1 = SO3.Rz(1) * SO3.Ry(1);"
      ]
    },
    {
      "cell_type": "code",
      "execution_count": null,
      "id": "9213af63",
      "metadata": {
        "id": "9213af63"
      },
      "outputs": [],
      "source": [
        "rpy0 = R0.rpy(); rpy1 = R1.rpy();"
      ]
    },
    {
      "cell_type": "code",
      "execution_count": null,
      "id": "42373ac0",
      "metadata": {
        "id": "42373ac0"
      },
      "outputs": [],
      "source": [
        "traj = mtraj(quintic, rpy0, rpy1, 50);"
      ]
    },
    {
      "cell_type": "code",
      "execution_count": null,
      "id": "26ee84b0",
      "metadata": {
        "id": "26ee84b0"
      },
      "outputs": [],
      "source": [
        "pose = SO3.RPY(traj.q);\n",
        "len(pose)"
      ]
    },
    {
      "cell_type": "code",
      "execution_count": null,
      "id": "d62a1caf",
      "metadata": {
        "id": "d62a1caf"
      },
      "outputs": [],
      "source": [
        "pose.animate();"
      ]
    },
    {
      "cell_type": "code",
      "execution_count": null,
      "id": "23553efc",
      "metadata": {
        "id": "23553efc"
      },
      "outputs": [],
      "source": [
        "q0 = UnitQuaternion(R0); q1 = UnitQuaternion(R1);"
      ]
    },
    {
      "cell_type": "code",
      "execution_count": null,
      "id": "9c87d883",
      "metadata": {
        "id": "9c87d883"
      },
      "outputs": [],
      "source": [
        "qtraj = q0.interp(q1, 50);\n",
        "len(qtraj)"
      ]
    },
    {
      "cell_type": "code",
      "execution_count": null,
      "id": "17fb4aa8",
      "metadata": {
        "id": "17fb4aa8"
      },
      "outputs": [],
      "source": [
        "qtraj.animate()"
      ]
    },
    {
      "cell_type": "markdown",
      "id": "95a17f6e",
      "metadata": {
        "id": "95a17f6e"
      },
      "source": [
        "### 3.3.4.1 Direction of Rotation\n"
      ]
    },
    {
      "cell_type": "code",
      "execution_count": null,
      "id": "48d0377e",
      "metadata": {
        "id": "48d0377e"
      },
      "outputs": [],
      "source": [
        "q0 = UnitQuaternion.Rz(-2); q1 = UnitQuaternion.Rz(2);\n",
        "q = q0.interp(q1, 50);\n",
        "q.animate()"
      ]
    },
    {
      "cell_type": "code",
      "execution_count": null,
      "id": "afb8b452",
      "metadata": {
        "id": "afb8b452"
      },
      "outputs": [],
      "source": [
        "q = q0.interp(q1, 50, shortest=True);\n",
        "q.animate()"
      ]
    },
    {
      "cell_type": "markdown",
      "id": "f4cc2d00",
      "metadata": {
        "id": "f4cc2d00"
      },
      "source": [
        "## 3.3.5 Cartesian Motion in 3D\n"
      ]
    },
    {
      "cell_type": "code",
      "execution_count": null,
      "id": "d311c94a",
      "metadata": {
        "id": "d311c94a"
      },
      "outputs": [],
      "source": [
        "T0 = SE3.Trans([0.4, 0.2, 0]) * SE3.RPY(0, 0, 3);\n",
        "T1 = SE3.Trans([-0.4, -0.2, 0.3]) * SE3.RPY(-pi/4, pi/4, -pi/2);"
      ]
    },
    {
      "cell_type": "code",
      "execution_count": null,
      "id": "3c077d85",
      "metadata": {
        "id": "3c077d85"
      },
      "outputs": [],
      "source": [
        "T0.interp(T1, 0.5)"
      ]
    },
    {
      "cell_type": "code",
      "execution_count": null,
      "id": "c9436e23",
      "metadata": {
        "id": "c9436e23"
      },
      "outputs": [],
      "source": [
        "Ts = T0.interp(T1, 51);"
      ]
    },
    {
      "cell_type": "code",
      "execution_count": null,
      "id": "8cb266c2",
      "metadata": {
        "id": "8cb266c2"
      },
      "outputs": [],
      "source": [
        "len(Ts)"
      ]
    },
    {
      "cell_type": "code",
      "execution_count": null,
      "id": "5adc6e0a",
      "metadata": {
        "id": "5adc6e0a"
      },
      "outputs": [],
      "source": [
        "Ts.animate()"
      ]
    },
    {
      "cell_type": "code",
      "execution_count": null,
      "id": "e58d1854",
      "metadata": {
        "id": "e58d1854"
      },
      "outputs": [],
      "source": [
        "Ts[25]"
      ]
    },
    {
      "cell_type": "code",
      "execution_count": null,
      "id": "6f8ae326",
      "metadata": {
        "id": "6f8ae326"
      },
      "outputs": [],
      "source": [
        "P = Ts.t;\n",
        "P.shape"
      ]
    },
    {
      "cell_type": "code",
      "execution_count": null,
      "id": "370e7978",
      "metadata": {
        "id": "370e7978"
      },
      "outputs": [],
      "source": [
        "xplot(P, labels=\"x y z\");"
      ]
    },
    {
      "cell_type": "code",
      "execution_count": null,
      "id": "ab763d64",
      "metadata": {
        "id": "ab763d64"
      },
      "outputs": [],
      "source": [
        "rpy = Ts.rpy();\n",
        "xplot(rpy, labels=\"roll pitch yaw\");"
      ]
    },
    {
      "cell_type": "code",
      "execution_count": null,
      "id": "9314c598",
      "metadata": {
        "id": "9314c598"
      },
      "outputs": [],
      "source": [
        "Ts = T0.interp(T1, trapezoidal(0, 1, 50).q);"
      ]
    },
    {
      "cell_type": "code",
      "execution_count": null,
      "id": "8667bc56",
      "metadata": {
        "id": "8667bc56"
      },
      "outputs": [],
      "source": [
        "Ts = ctraj(T0, T1, 50);"
      ]
    },
    {
      "cell_type": "markdown",
      "id": "9eebfeb2",
      "metadata": {
        "id": "9eebfeb2"
      },
      "source": [
        "# 3.4 Application: Inertial Navigation\n"
      ]
    },
    {
      "cell_type": "markdown",
      "id": "93ac0521",
      "metadata": {
        "id": "93ac0521"
      },
      "source": [
        "## 3.4.1 Gyroscopes\n"
      ]
    },
    {
      "cell_type": "markdown",
      "id": "8f4c845b",
      "metadata": {
        "id": "8f4c845b"
      },
      "source": [
        "### 3.4.1.1 How Gyroscopes Work\n"
      ]
    },
    {
      "cell_type": "markdown",
      "id": "c8b681b9",
      "metadata": {
        "id": "c8b681b9"
      },
      "source": [
        "### 3.4.1.2 Estimating Orientation\n"
      ]
    },
    {
      "cell_type": "code",
      "execution_count": null,
      "id": "4fe1e894",
      "metadata": {
        "id": "4fe1e894"
      },
      "outputs": [],
      "source": [
        "from imu_data import IMU\n",
        "true, _ = IMU()"
      ]
    },
    {
      "cell_type": "code",
      "execution_count": null,
      "id": "42707569",
      "metadata": {
        "id": "42707569"
      },
      "outputs": [],
      "source": [
        "orientation = UnitQuaternion();  # identity quaternion"
      ]
    },
    {
      "cell_type": "code",
      "execution_count": null,
      "id": "68b0a5d7",
      "metadata": {
        "id": "68b0a5d7"
      },
      "outputs": [],
      "source": [
        "for w in true.omega[:-1]:\n",
        "  next = orientation[-1] @ UnitQuaternion.EulerVec(w * true.dt);\n",
        "  orientation.append(next);\n",
        "len(orientation)"
      ]
    },
    {
      "cell_type": "code",
      "execution_count": null,
      "id": "24badf62",
      "metadata": {
        "id": "24badf62"
      },
      "outputs": [],
      "source": [
        "orientation.animate(time=true.t)"
      ]
    },
    {
      "cell_type": "code",
      "execution_count": null,
      "id": "2673cd14",
      "metadata": {
        "id": "2673cd14"
      },
      "outputs": [],
      "source": [
        "xplot(true.t, orientation.rpy(), labels=\"roll pitch yaw\");"
      ]
    },
    {
      "cell_type": "markdown",
      "id": "7b7a9cb6",
      "metadata": {
        "id": "7b7a9cb6"
      },
      "source": [
        "## 3.4.2 Accelerometers\n"
      ]
    },
    {
      "cell_type": "markdown",
      "id": "5ecd0f01",
      "metadata": {
        "id": "5ecd0f01"
      },
      "source": [
        "### 3.4.2.1 How Accelerometers Work\n"
      ]
    },
    {
      "cell_type": "markdown",
      "id": "e853b684",
      "metadata": {
        "id": "e853b684"
      },
      "source": [
        "### 3.4.2.2 Estimating Pose and Body Acceleration\n"
      ]
    },
    {
      "cell_type": "markdown",
      "id": "01e778eb",
      "metadata": {
        "id": "01e778eb"
      },
      "source": [
        "## 3.4.3 Magnetometers\n"
      ]
    },
    {
      "cell_type": "markdown",
      "id": "b2a83e52",
      "metadata": {
        "id": "b2a83e52"
      },
      "source": [
        "### 3.4.3.1 How Magnetometers Work\n"
      ]
    },
    {
      "cell_type": "markdown",
      "id": "10cafe42",
      "metadata": {
        "id": "10cafe42"
      },
      "source": [
        "### 3.4.3.2 Estimating Heading\n"
      ]
    },
    {
      "cell_type": "markdown",
      "id": "f358dff8",
      "metadata": {
        "id": "f358dff8"
      },
      "source": [
        "## 3.4.4 Inertial Sensor Fusion\n"
      ]
    },
    {
      "cell_type": "code",
      "execution_count": null,
      "id": "a7d89d8f",
      "metadata": {
        "id": "a7d89d8f"
      },
      "outputs": [],
      "source": [
        "from imu_data import IMU\n",
        "true, imu = IMU()"
      ]
    },
    {
      "cell_type": "code",
      "execution_count": null,
      "id": "30468005",
      "metadata": {
        "id": "30468005"
      },
      "outputs": [],
      "source": [
        "q = UnitQuaternion();\n",
        "for wm in imu.gyro[:-1]:\n",
        "  q.append(q[-1] @ UnitQuaternion.EulerVec(wm * imu.dt))"
      ]
    },
    {
      "cell_type": "code",
      "execution_count": null,
      "id": "2c3f48a5",
      "metadata": {
        "id": "2c3f48a5"
      },
      "outputs": [],
      "source": [
        "xplot(true.t, q.angdist(true.orientation), color=\"red\");"
      ]
    },
    {
      "cell_type": "code",
      "execution_count": null,
      "id": "ab939014",
      "metadata": {
        "id": "ab939014"
      },
      "outputs": [],
      "source": [
        "kI = 0.2; kP = 1;\n",
        "b = np.zeros(imu.gyro.shape);\n",
        "qcf = UnitQuaternion();\n",
        "data = zip(imu.gyro[:-1], imu.accel[:-1], imu.magno[:-1]);\n",
        "for k, (wm, am, mm) in enumerate(data):\n",
        "  qi = qcf[-1].inv()\n",
        "  sR = np.cross(am, qi * true.g) + np.cross(mm, qi * true.B)\n",
        "  wp = wm - b[k,:] + kP * sR\n",
        "  qcf.append(qcf[k] @ UnitQuaternion.EulerVec(wp * imu.dt))\n",
        "  b[k+1,:] = b[k,:] - kI * sR * imu.dt"
      ]
    },
    {
      "cell_type": "code",
      "execution_count": null,
      "id": "36c71a2c",
      "metadata": {
        "id": "36c71a2c"
      },
      "outputs": [],
      "source": [
        "xplot(true.t, qcf.angdist(true.orientation), color=\"blue\");"
      ]
    }
  ],
  "metadata": {
    "jupytext": {
      "cell_metadata_filter": "-all",
      "main_language": "python",
      "notebook_metadata_filter": "-all"
    },
    "kernelspec": {
      "display_name": "dev",
      "language": "python",
      "name": "python3"
    },
    "language_info": {
      "codemirror_mode": {
        "name": "ipython",
        "version": 3
      },
      "file_extension": ".py",
      "mimetype": "text/x-python",
      "name": "python",
      "nbconvert_exporter": "python",
      "pygments_lexer": "ipython3",
      "version": "3.9.12"
    },
    "vscode": {
      "interpreter": {
        "hash": "019dbbf6354d31390a1af2a8707908a74d3d4774daf62f20d47153cfbd4b4bc4"
      }
    },
    "colab": {
      "provenance": []
    }
  },
  "nbformat": 4,
  "nbformat_minor": 5
}